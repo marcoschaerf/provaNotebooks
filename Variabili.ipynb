{
 "cells": [
  {
   "cell_type": "markdown",
   "metadata": {
    "slideshow": {
     "slide_type": "slide"
    }
   },
   "source": [
    "#### Autori: Domenico Lembo, Giuseppe Santucci and Marco Schaerf\n",
    "\n",
    "[Dipartimento di Ingegneria informatica, automatica e gestionale](https://www.diag.uniroma1.it)\n",
    "\n",
    "<img src=\"https://mirrors.creativecommons.org/presskit/buttons/88x31/png/by-nc-sa.eu.png\"\n",
    "     alt=\"License\"\n",
    "     style=\"float: left;\"\n",
    "     height=\"40\" width=\"100\" />\n",
    "This notebook is distributed with license Creative Commons *CC BY-NC-SA*"
   ]
  },
  {
   "cell_type": "markdown",
   "metadata": {},
   "source": [
    "# Argomenti della lezione\n",
    "1. Le variabili in Python e l'istruzione di assegnazione\n",
    "2. Scrittura di programmi con l'Editor\n",
    "3. Funzioni `print()` ed `input()`\n",
    "4. Funzioni `int()` e `float()`"
   ]
  },
  {
   "cell_type": "markdown",
   "metadata": {},
   "source": [
    "### Variabili\n",
    "Se vogliamo conservare un risultato, per poterlo poi riutilizzare, dobbiamo memorizzarlo in una variabile. Ad esempio:"
   ]
  },
  {
   "cell_type": "code",
   "execution_count": 1,
   "metadata": {},
   "outputs": [
    {
     "data": {
      "text/plain": [
       "147"
      ]
     },
     "execution_count": 1,
     "metadata": {},
     "output_type": "execute_result"
    }
   ],
   "source": [
    "x = 7*(5+2)\n",
    "y = x * 3\n",
    "y"
   ]
  },
  {
   "cell_type": "markdown",
   "metadata": {},
   "source": [
    "### Istruzione di assegnazione `=`\n",
    "Le istruzioni tipo `x = 7*(5+2)` si chiamano *istruzioni di assegnazione*. A sinistra del segno `=` abbiamo il nome di una *variabile* (`x` in questo caso) ed a destra un'*espressione*. La variabile non è altro che il nome di una zona di memoria. L'espressione a destra viene valutata (calcolato il suo valore) ed il risultato viene assegnato alla variabile a sinistra (viene scritto nella zona di memoria associata alla variabile)\n",
    "#### L'istruzione di assegnazione NON va confusa con il simbolo matematico di uguaglianza, anche se il simbolo usato è lo stesso `=`\n",
    "In matematica l'uguaglianza è una relazione binaria di equivalenza che specifica che il valore dell'espressione a sinistra dell'= sia uguale a quello dell'espressione a destra. Usando lo stesso simbolo in Python sto invece \n",
    "assegnando il valore dell'espressione di destra alla variabile che compare a sinistra. Per apprezzare la differenza, notate (ad esempio) che l'uguaglianza matematica è simmetrica (cioè dire `a=b` o `b=a` è la stessa cosa) mentre la stessa proprietà non vale per l'assegnazione dove la parte sinistra e la destra hanno un ruolo molto diverso (`x = 7*(5+2)`è corretta, mentre `7*(5+2) = x` non ha alcun senso). Vedremo in seguito che Python usa il simbolo `==` per effettuare un confronto di uguaglianza fra due espressioni."
   ]
  },
  {
   "cell_type": "code",
   "execution_count": null,
   "metadata": {
    "scrolled": true
   },
   "outputs": [],
   "source": [
    "7*(5+2) = x"
   ]
  },
  {
   "cell_type": "markdown",
   "metadata": {},
   "source": [
    "#### Operatori di assegnazione composti\n",
    "\n",
    "E’ anche possibile scrivere enunciati che effettuano una assegnazione e svolgono allo stesso tempo un calcolo.\n",
    "\n",
    "Esempi:\n",
    "\n",
    "Forma breve | equivalente a\n",
    ":--- | :---\n",
    "`i += 5` | `i = i + 5`\n",
    "`i *= 2` | `i = i * 2`\n",
    "`i -= 1` | `i = i – 1`\n",
    "`i /= 3` | `i = i / 3`\n",
    "`i **= 4` | `i = i ** 4`\n",
    "`i %= 2` | `i = i % 2`"
   ]
  },
  {
   "cell_type": "markdown",
   "metadata": {},
   "source": [
    "### Regole nomi variabili\n",
    "I nomi delle variabili in Python devono rispettare queste regole:\n",
    "1. Il primo carattere deve essere una lettera o il simbolo \\_ (underscore o trattino in basso)\n",
    "2. I caratteri successivi possono essere lettere, cifre o il carattere \\_\n",
    "3. Python FA differenza tra maiuscole e minuscole (ad esempio, x e X sono due variabili distinte)"
   ]
  },
  {
   "cell_type": "code",
   "execution_count": 2,
   "metadata": {
    "scrolled": true
   },
   "outputs": [
    {
     "data": {
      "text/plain": [
       "10"
      ]
     },
     "execution_count": 2,
     "metadata": {},
     "output_type": "execute_result"
    }
   ],
   "source": [
    "x = 5\n",
    "X = 7\n",
    "y = 2*x\n",
    "y"
   ]
  },
  {
   "cell_type": "markdown",
   "metadata": {},
   "source": [
    "### Avvio dell'Editor\n",
    "Per scrivere programmi composti da più istruzioni e poterli poi salvare e rieseguire, useremo l'Editor di IDLE.\n",
    "\n",
    "Dal menu `File` selezionate la voce `New File`\n",
    "\n",
    "La differenza fondamentale tra l'Editor e la Shell è che le istruzioni che scrivete all'interno dell'Editor non vengono immediatamente eseguite, ma devono essere salvate in un file (al primo salvataggio potete indicare un mome significativo per il file) e devono essere esplicitamente eseguite usando la voce `Run Module` dal menu `Run`.\n",
    "\n",
    "<img src=\"Immagini/idle2.png\" width=\"600\" />\n",
    "\n",
    "Un primo grosso vantaggio dell'Editor rispetto alla Shell è quindi che il codice che abbiamo viene salvato e può essere riusato successivamente. Per mantenere in ordine il vostro codice, create una cartella in cui salvare tutti i vostri programmi e salvate questo file lì dentro."
   ]
  },
  {
   "cell_type": "markdown",
   "metadata": {},
   "source": [
    "### Differenze tra Editor e Shell\n",
    "Nell'Editor, i risultati delle istruzioni NON vengono visualizzati come succedeva nella Shell. Per far visualizzare un risultato bisogna dare esplicitamente il comando di stampa con la funzione `print()`. Copiate nell'Editor le seguenti istruzioni:\n",
    "\n",
    "`var1 = 'ciao'`\n",
    "\n",
    "`var2 = var1*4`\n",
    "\n",
    "ed eseguite il comando `Run Module`. Il risultato dell'esecuzione del vostro programma viene visualizzato sulla sulla Shell, ma in questo caso non viene visualizzato alcun risultato, solo un messaggio del tipo `RESTART(......)`. Per fare visualizzare un risultato dobbiamo stamparlo con la funzione `print()`.\n",
    "\n",
    "Aggiungete dopo le 2 istruzioni di sopra l'istruzione:\n",
    "\n",
    "`print(var2)`\n",
    "\n",
    "Ottenendo il programma:\n",
    "\n",
    "`var1 = 'ciao'`\n",
    "\n",
    "`var2 = var1*4`\n",
    "\n",
    "`print(var2)`\n",
    "\n",
    "e date nuovamente il comando `Run Module`. Ora viene stampato sulla Shell il valore `ciaociaociaociao`"
   ]
  },
  {
   "cell_type": "markdown",
   "metadata": {},
   "source": [
    "### Eseguire più volte un programma\n",
    "Nella grande maggiornaza dei casi, un programma non viene scritto per essere eseguito una sola volta, ma più volte e con dati di ingresso diversi. Nell'esempio precedente, se vogliamo ri-eseguire il programma su valori diversi (per esempio assegnando alla variabile `var1` il valore 'prova' invece di 'ciao') dovremmo modificare il programma prima di eseguirlo.\n",
    "\n",
    "### Funzione `input()`\n",
    "Una soluzione migliore è di scrivere un programma che NON assegna un valore fisso alla variabile `var1` ma che invece chiede all'utente di fornirlo al momento dell'esecuzione. In questo modo il programma rimane lo stesso, ma ogni esecuzione avrà diversi dati di ingresso. Il modo più semplice di ottenere questo risultato in Python è usando la funzione `input()`\n",
    "\n",
    "All'interno dell'Editor sostituiamo la riga\n",
    "`var1 = 'ciao'`\n",
    "con\n",
    "`var1 = input()`\n",
    "ottenendo il programma:\n",
    "\n",
    "`var1 = input()`\n",
    "\n",
    "`var2 = var1*4`\n",
    "\n",
    "`print(var2)`\n",
    "\n",
    "ed eseguiamo `Run Module`.\n",
    "\n",
    "Il programma non genera alcun risultato perché è in attesa che venga inserito il dato di ingresso *nella Shell*  che verrà poi assegnato alla variabile `var1`. Spostate quindi il mouse nella Python Shell ed inserite il dato, ad esempio: palla\n",
    "\n",
    "Sulla Shell apparirà il risultato, cioè `pallapallapallapalla` nel nostro caso.\n",
    "\n",
    "### Formato funzione `input()`\n",
    "Per rendere più chiaro il fatto che il programma è in attesa di ricevere un dato in ingresso, la funzione `input()` può essere usata in questo modo:\n",
    "\n",
    "`var1 = input('Inserisci un dato di ingresso')`\n",
    "\n",
    "ottenendo il programma:\n",
    "\n",
    "`var1 = input('Inserisci un dato di ingresso')`\n",
    "\n",
    "`var2 = var1*4`\n",
    "\n",
    "`print(var2)`\n",
    "\n",
    "**`'Inserisci un dato di ingresso'` è una stringa la cui sola funzione è di essere stampata sulla Shell per far capire all'utente che il programma è in attesa di ricevere un dato in ingresso. Il valore che verrà assegnato alla variabile `var1` *non è la stringa* `'Inserisci un dato di ingresso'` ma il valore che verrà inserito nella Shell.** Effettuate la prova qui nella cella sottostante di questo Notebook, ma **anche nell'Editor**."
   ]
  },
  {
   "cell_type": "code",
   "execution_count": null,
   "metadata": {},
   "outputs": [],
   "source": [
    "var1 = input('Inserisci un dato di ingresso')\n",
    "var2 = var1*4\n",
    "print(var2)"
   ]
  },
  {
   "cell_type": "markdown",
   "metadata": {},
   "source": [
    "Il dato di ingresso viene inserito subito dopo la stringa `'Inserisci un dato di ingresso'`. Questo non è intuitivo. Per evitare questo piccolo problema si può modificare leggermente la riga:\n",
    "\n",
    "`var1 = input('Inserisci un dato di ingresso')`\n",
    "\n",
    "in:\n",
    "\n",
    "`var1 = input('Inserisci un dato di ingresso: ')`\n",
    "\n",
    "ottenendo il programma:\n",
    "\n",
    "`var1 = input('Inserisci un dato di ingresso: ')`\n",
    "\n",
    "`var2 = var1*4`\n",
    "\n",
    "`print(var2)`\n",
    "\n",
    "lo spazio bianco presente nella nuova stringa rende più intuitivo l'inserimento del dato in ingresso"
   ]
  },
  {
   "cell_type": "code",
   "execution_count": null,
   "metadata": {},
   "outputs": [],
   "source": [
    "var1 = input('Inserisci un dato di ingresso: ')\n",
    "var2 = var1*4\n",
    "print(var2)"
   ]
  },
  {
   "cell_type": "markdown",
   "metadata": {},
   "source": [
    "### La funzione `int()`\n",
    "Quando inserite un dato da tastiera, Python legge *esattamente* i caratteri che battete, senza preoccuparsi se siano caratteri o numeri. Dal punto di vista di Python *tutto* quello che inserite sono caratteri di una stringa. Se infatti eseguite il programma precedente ed inserite come dato di ingresso 5, il programma stamperà sulla Shell 5555, cioè 4 volte il *carattere* 5, non 4 volte il *numero* 5.\n",
    "\n",
    "Se quello che volete è che  `var1` contenga un numero intero, allora dovete aggiungere la riga\n",
    "\n",
    "`var1 = int(var1)`\n",
    "\n",
    "dopo la riga\n",
    "\n",
    "`var1 = input('Inserisci un dato di ingresso')` \n",
    "\n",
    "ottenendo il programma:\n",
    "\n",
    "`var1 = input('Inserisci un dato di ingresso: ')`\n",
    "\n",
    "`var1 = int(var1)`\n",
    "\n",
    "`var2 = var1*4`\n",
    "\n",
    "`print(var2)`\n",
    "\n",
    "L'effetto della nuova riga è di trasformare il valore della variabile `var1` in un numero intero. Questo è possibile solo se *tutti i caratteri* di `var1` dopo l'istruzione `input()` sono cifre, altrimenti il programma andrà in errore. Provate ad eseguire il nuovo programma **sia nella cella sottostante che nell'Editor** inserendo come dato in ingresso una volta un numero ed una volta una stringa di caratteri alfabetici come ad esempio 'palla'"
   ]
  },
  {
   "cell_type": "code",
   "execution_count": null,
   "metadata": {},
   "outputs": [],
   "source": [
    "var1 = input('Inserisci un dato di ingresso: ')\n",
    "var1 = int(var1)\n",
    "var2 = var1*4\n",
    "print(var2)"
   ]
  },
  {
   "cell_type": "markdown",
   "metadata": {},
   "source": [
    "### La funzione `float()`\n",
    "\n",
    "Ha un funzionamento analogo alla funzione `int()`, ma converte la stringa in input in un numero frazionario. Se la stringa in input non è convertibile in un numero frazionario, viene restituito un errore. \n"
   ]
  },
  {
   "cell_type": "code",
   "execution_count": null,
   "metadata": {},
   "outputs": [],
   "source": [
    "4 + float('3.55')"
   ]
  },
  {
   "cell_type": "code",
   "execution_count": 2,
   "metadata": {},
   "outputs": [
    {
     "ename": "ValueError",
     "evalue": "could not convert string to float: '3,55'",
     "output_type": "error",
     "traceback": [
      "\u001b[0;31m---------------------------------------------------------------------------\u001b[0m",
      "\u001b[0;31mValueError\u001b[0m                                Traceback (most recent call last)",
      "\u001b[0;32m<ipython-input-2-cb618886a55e>\u001b[0m in \u001b[0;36m<module>\u001b[0;34m()\u001b[0m\n\u001b[0;32m----> 1\u001b[0;31m \u001b[0mfloat\u001b[0m\u001b[0;34m(\u001b[0m\u001b[0;34m'3,55'\u001b[0m\u001b[0;34m)\u001b[0m\u001b[0;34m\u001b[0m\u001b[0m\n\u001b[0m",
      "\u001b[0;31mValueError\u001b[0m: could not convert string to float: '3,55'"
     ]
    }
   ],
   "source": [
    "float('3,55')"
   ]
  },
  {
   "cell_type": "code",
   "execution_count": 1,
   "metadata": {
    "scrolled": true
   },
   "outputs": [
    {
     "ename": "ValueError",
     "evalue": "could not convert string to float: '12*3'",
     "output_type": "error",
     "traceback": [
      "\u001b[0;31m---------------------------------------------------------------------------\u001b[0m",
      "\u001b[0;31mValueError\u001b[0m                                Traceback (most recent call last)",
      "\u001b[0;32m<ipython-input-1-9bdecfd9c477>\u001b[0m in \u001b[0;36m<module>\u001b[0;34m()\u001b[0m\n\u001b[0;32m----> 1\u001b[0;31m \u001b[0mfloat\u001b[0m\u001b[0;34m(\u001b[0m\u001b[0;34m\"12*3\"\u001b[0m\u001b[0;34m)\u001b[0m\u001b[0;34m\u001b[0m\u001b[0m\n\u001b[0m",
      "\u001b[0;31mValueError\u001b[0m: could not convert string to float: '12*3'"
     ]
    }
   ],
   "source": [
    "float(\"12*3\")"
   ]
  },
  {
   "cell_type": "markdown",
   "metadata": {},
   "source": [
    "### La funzione `print()`\n",
    "\n",
    "Consente di mostrare nella Shell il valore restituito da una qualsiasi espressione Python. La funzione `print()` ha almeno un argomento, ma può averne anche più di uno. Ogni argomento deve essere una espressione valida nel linguaggio Python, anche di tipo diverso."
   ]
  },
  {
   "cell_type": "code",
   "execution_count": null,
   "metadata": {},
   "outputs": [],
   "source": [
    "print(-3.2)"
   ]
  },
  {
   "cell_type": "code",
   "execution_count": null,
   "metadata": {},
   "outputs": [],
   "source": [
    "print('-3.2')"
   ]
  },
  {
   "cell_type": "code",
   "execution_count": null,
   "metadata": {},
   "outputs": [],
   "source": [
    "print(4*3)"
   ]
  },
  {
   "cell_type": "code",
   "execution_count": 3,
   "metadata": {},
   "outputs": [
    {
     "name": "stdout",
     "output_type": "stream",
     "text": [
      "moltiplicando 4.5 con 3.7 ottengo: 16.650000000000002\n"
     ]
    }
   ],
   "source": [
    "print(\"moltiplicando 4.5 con 3.7 ottengo:\", 4.5*3.7)"
   ]
  },
  {
   "cell_type": "markdown",
   "metadata": {},
   "source": [
    "### Esercizi\n",
    "Completate questi esercizi prima di cominciare il prossimo argomento"
   ]
  },
  {
   "cell_type": "markdown",
   "metadata": {},
   "source": [
    "#### Esercizio 1:\n",
    "Scrivete le istruzioni Python che chiedono all'utente di inserire il valore del raggio di un cerchio e stampa l'area"
   ]
  },
  {
   "cell_type": "code",
   "execution_count": null,
   "metadata": {},
   "outputs": [],
   "source": []
  },
  {
   "cell_type": "markdown",
   "metadata": {},
   "source": [
    "#### Exercise 2: \n",
    "Scrivete le istruzioni Python che chiedono all'utente di inserire il valore del raggio e stampa su due righe differenti l'area ed il diametro"
   ]
  },
  {
   "cell_type": "code",
   "execution_count": 4,
   "metadata": {},
   "outputs": [
    {
     "name": "stdout",
     "output_type": "stream",
     "text": [
      "inseririsci il valore del raggio 2\n",
      "12.56\n",
      "4.0\n"
     ]
    }
   ],
   "source": []
  },
  {
   "cell_type": "markdown",
   "metadata": {},
   "source": [
    "#### Esercizio 3: \n",
    "Scrivete le istruzioni Python che chiedono all'utente il raggio e l'altezza di un cilindro e stampa il volume"
   ]
  },
  {
   "cell_type": "code",
   "execution_count": null,
   "metadata": {},
   "outputs": [],
   "source": []
  }
 ],
 "metadata": {
  "kernelspec": {
   "display_name": "Python 3",
   "language": "python",
   "name": "python3"
  },
  "language_info": {
   "codemirror_mode": {
    "name": "ipython",
    "version": 3
   },
   "file_extension": ".py",
   "mimetype": "text/x-python",
   "name": "python",
   "nbconvert_exporter": "python",
   "pygments_lexer": "ipython3",
   "version": "3.6.5"
  }
 },
 "nbformat": 4,
 "nbformat_minor": 4
}
